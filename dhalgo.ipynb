{
  "nbformat": 4,
  "nbformat_minor": 0,
  "metadata": {
    "colab": {
      "provenance": [],
      "authorship_tag": "ABX9TyP+BBy5Edlaun2qyCh4agMN",
      "include_colab_link": true
    },
    "kernelspec": {
      "name": "python3",
      "display_name": "Python 3"
    },
    "language_info": {
      "name": "python"
    }
  },
  "cells": [
    {
      "cell_type": "markdown",
      "metadata": {
        "id": "view-in-github",
        "colab_type": "text"
      },
      "source": [
        "<a href=\"https://colab.research.google.com/github/Vikasgarikapati/CNS-lab/blob/main/dhalgo.ipynb\" target=\"_parent\"><img src=\"https://colab.research.google.com/assets/colab-badge.svg\" alt=\"Open In Colab\"/></a>"
      ]
    },
    {
      "cell_type": "code",
      "execution_count": 2,
      "metadata": {
        "colab": {
          "base_uri": "https://localhost:8080/"
        },
        "id": "2678TypB4A7_",
        "outputId": "333defed-2e8f-4476-87bd-c5e3d9208eea"
      },
      "outputs": [
        {
          "output_type": "stream",
          "name": "stdout",
          "text": [
            "15\n",
            "7\n",
            "The Value of P is :15\n",
            "The Value of G is :7\n",
            "The Private Key a for Harulu is :4\n",
            "The Private Key b for Himalu is :3\n",
            "Secret key for the Harulu is : 1\n",
            "Secret Key for the Himalu is : 1\n"
          ]
        }
      ],
      "source": [
        "from random import randint\n",
        " \n",
        "if __name__ == '__main__':\n",
        " \n",
        "\n",
        "    P = int(input())\n",
        "\n",
        "    G = int(input())\n",
        "     \n",
        "      \n",
        "    print('The Value of P is :%d'%(P))\n",
        "    print('The Value of G is :%d'%(G))\n",
        "\n",
        "    a = 4\n",
        "    print('The Private Key a for Harulu is :%d'%(a))\n",
        "\n",
        "    x = int(pow(G,a,P)) \n",
        "\n",
        "    b = 3\n",
        "    print('The Private Key b for Himalu is :%d'%(b))\n",
        "   \n",
        "    y = int(pow(G,b,P)) \n",
        "\n",
        "    ka = int(pow(y,a,P))\n",
        "\n",
        "    kb = int(pow(x,b,P))\n",
        "     \n",
        "    print('Secret key for the Harulu is : %d'%(ka))\n",
        "    print('Secret Key for the Himalu is : %d'%(kb))"
      ]
    },
    {
      "cell_type": "code",
      "source": [],
      "metadata": {
        "id": "G_DwyV8f4nrH"
      },
      "execution_count": null,
      "outputs": []
    }
  ]
}